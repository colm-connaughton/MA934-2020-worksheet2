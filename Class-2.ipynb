{
 "cells": [
  {
   "cell_type": "markdown",
   "metadata": {},
   "source": [
    "# MA934 - class 2\n",
    "\n",
    "## Deadline: 12:00 noon 14 October 2021\n",
    "\n",
    "### Code hygiene rules required for full marks\n",
    "\n",
    "* You must make **at least one commit** to your repository **per computational task** below - usually more.\n",
    "\n",
    "* Place your functions in a module contained in a separate file rather than defining everything in the Jupyter notebook.\n",
    "\n",
    "* Create and include environment files Project.toml and Manifest.toml in your repository to allow me to recreate your environment.\n",
    "\n",
    "* Include a pdf copy of the final version of your notebook in your git repository before submitting your work. This should show all graphs and results in case I can't run your code.\n",
    "\n",
    "\n",
    "## Task 1 - insertion sort\n",
    "\n",
    "Add an implementation of the insertion sort algorithm to your module. Check that it works by sorting some manageably small lists of random integers. The command rand(1:200, 10) creates a list of 10 random integers in the range 1:200."
   ]
  },
  {
   "cell_type": "markdown",
   "metadata": {},
   "source": [
    "## Task 2 - mergesort\n",
    "\n",
    "Consider two arrays of integers, A and B, having lengths n and m respectively. Assuming that the elements of A and B are already sorted in ascending order. The following recursive function interlaces them to return an array of length n+m whose elements are sorted in ascending order:\n",
    "\n",
    "```Julia\n",
    "    function interlace(A::Array{Int64,1}, B::Array{Int64,1})\n",
    "      if length(A) == 0\n",
    "        return B\n",
    "      elseif length(B) == 0\n",
    "        return A\n",
    "      elseif A[1] < B[1]\n",
    "        return vcat([A[1]], interlace(A[2:end], B))\n",
    "      else\n",
    "        return vcat([B[1]], interlace(A, B[2:end]))\n",
    "      end    \n",
    "    end\n",
    "```\n",
    "\n",
    "Add this function to your module and use it to implement the mergesort algorithm. Check that it works."
   ]
  },
  {
   "cell_type": "markdown",
   "metadata": {},
   "source": [
    "## Task 3 - fixing mergesort\n",
    "\n",
    "You will probably find that your mergesort algorithm fails for moderately array lengths (on my laptop, I couldn't do arrays of length $2^{15}$ for example.) The reason for this is that there are too many recursions: the code quickly exceeds the maximum allowed recursion depth. To fix this, write a non-recursive implementation of the ```interlace()``` function. Test your ```mergesort()``` function using the non-recursive version. It should work better."
   ]
  },
  {
   "cell_type": "markdown",
   "metadata": {},
   "source": [
    "## Task 4 - benchmarking\n",
    "\n",
    "Measure the runtime of your insertion sort and mergesort functions for random arrays of integers in the range $2$ to $2^{20}$. **Save your results to a file**.\n",
    "\n",
    "This is the potentially complicated part of this task. Here are some pointers:\n",
    "* Use BenchmarkTools.jl to do the timing rather than the @timed macro. In my experience it works better. See https://github.com/JuliaCI/BenchmarkTools.jl\n",
    "* Be careful if your algorithms run in-place: BenchmarkTools runs a function multiple times to get an average runtime. Your results will be non-representative if each of these runs ends up sorting an array that was already sorted by the first pass!\n",
    "* A really useful package for reading and writing arrays (and other Julia types) to files is JLD.jl. I recommend that you use this. See : https://github.com/JuliaIO/JLD.jl"
   ]
  },
  {
   "cell_type": "markdown",
   "metadata": {},
   "source": [
    "## Task 5 - empirical analysis of computational complexity\n",
    "\n",
    "**Load your benchmarking results back from the file** and plot them on a log-log scale. Fit your data to determine how the computational cost scales with the length of the input array for large array sizes. How does this compare to theoretical expectations?"
   ]
  },
  {
   "cell_type": "code",
   "execution_count": null,
   "metadata": {},
   "outputs": [],
   "source": []
  }
 ],
 "metadata": {
  "kernelspec": {
   "display_name": "Julia 1.0.5",
   "language": "julia",
   "name": "julia-1.0"
  },
  "language_info": {
   "file_extension": ".jl",
   "mimetype": "application/julia",
   "name": "julia",
   "version": "1.0.5"
  }
 },
 "nbformat": 4,
 "nbformat_minor": 2
}
